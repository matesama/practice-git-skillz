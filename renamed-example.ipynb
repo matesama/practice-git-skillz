{
 "cells": [
  {
   "cell_type": "code",
   "execution_count": null,
   "metadata": {},
   "outputs": [],
   "source": [
    "#Practice git and Github for WBS Primer\n",
    "This is a practice!\n",
    "Enjoy it."
   ]
  }
 ],
 "metadata": {
  "language_info": {
   "name": "python"
  }
 },
 "nbformat": 4,
 "nbformat_minor": 2
}
